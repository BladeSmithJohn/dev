{
 "cells": [
  {
   "cell_type": "code",
   "execution_count": 1,
   "metadata": {},
   "outputs": [
    {
     "name": "stdout",
     "output_type": "stream",
     "text": [
      "2024-03-08 05:10:29,350 0000000000000000 139958447071872 8679\n",
      "2024-03-08 05:10:29,353 111111111111111\n",
      "2024-03-08 05:10:34,359 222222222222222\n"
     ]
    },
    {
     "name": "stdout",
     "output_type": "stream",
     "text": [
      "2024-03-08 05:10:34,363 start sleep........................... 139958447071872 8679\n",
      "2024-03-08 05:10:40,370 stop sleep..............................\n"
     ]
    }
   ],
   "source": [
    "import asyncio\n",
    "import logging\n",
    "import time\n",
    "import sys\n",
    "import threading\n",
    "\n",
    "class WebSocketClient2:\n",
    "    async def data_handler(self):\n",
    "        logging.error(\"start sleep........................... %d %d\", threading.get_ident(), threading.get_native_id())\n",
    "        # import pdb;pdg.set_trace()\n",
    "        await asyncio.sleep(6)\n",
    "        logging.error(\"stop sleep..............................\")\n",
    "\n",
    "    def __init__(self, url=\"\"):\n",
    "        self.url = url\n",
    "        # self.websocket = connect(url)\n",
    "        # self.data_handler()\n",
    "        \n",
    "        # logging.error(\"WebSocketClient2 data_handler\")\n",
    "    \n",
    "    def Reg(self):\n",
    "        task = asyncio.get_event_loop().create_task(self.data_handler())\n",
    "logging.basicConfig(format=\"%(asctime)s %(message)s\", stream=sys.stdout, level=logging.INFO)\n",
    "\n",
    "wsc2 = WebSocketClient2()\n",
    "logging.error(\"0000000000000000 %d %d\", threading.get_ident(), threading.get_native_id())\n",
    "wsc2.Reg()\n",
    "logging.error(\"111111111111111\")\n",
    "time.sleep(5)\n",
    "logging.error(\"222222222222222\")\n"
   ]
  }
 ],
 "metadata": {
  "kernelspec": {
   "display_name": "Python 3 (ipykernel)",
   "language": "python",
   "name": "python3"
  },
  "language_info": {
   "codemirror_mode": {
    "name": "ipython",
    "version": 3
   },
   "file_extension": ".py",
   "mimetype": "text/x-python",
   "name": "python",
   "nbconvert_exporter": "python",
   "pygments_lexer": "ipython3",
   "version": "3.10.13"
  }
 },
 "nbformat": 4,
 "nbformat_minor": 2
}
